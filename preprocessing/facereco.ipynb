{
 "cells": [
  {
   "cell_type": "markdown",
   "metadata": {
    "toc": true
   },
   "source": [
    "<h1>Table of Contents<span class=\"tocSkip\"></span></h1>\n",
    "<div class=\"toc\"><ul class=\"toc-item\"></ul></div>"
   ]
  },
  {
   "cell_type": "code",
   "execution_count": 12,
   "metadata": {},
   "outputs": [],
   "source": [
    "faces_folder_path = r'E:\\pycharmpro\\faceDig\\test\\fa'\n",
    "img_path = r'E:\\pycharmpro\\faceDig\\test\\feifei2.jpeg'"
   ]
  },
  {
   "cell_type": "code",
   "execution_count": 8,
   "metadata": {},
   "outputs": [
    {
     "name": "stdout",
     "output_type": "stream",
     "text": [
      "Processing file: E:\\pycharmpro\\faceDig\\test\\fa\\1.jpeg\n",
      "Number of faces detected: 1\n",
      "Processing file: E:\\pycharmpro\\faceDig\\test\\fa\\2.jpeg\n",
      "Number of faces detected: 1\n",
      "Processing file: E:\\pycharmpro\\faceDig\\test\\fa\\3.jpg\n",
      "Number of faces detected: 1\n",
      "Processing file: E:\\pycharmpro\\faceDig\\test\\fa\\4.jpg\n",
      "Number of faces detected: 1\n"
     ]
    }
   ],
   "source": [
    "# -*- coding: UTF-8 -*-\n",
    "\n",
    "import sys,os,dlib,glob,numpy\n",
    "import cv2\n",
    "from dataset import LANDMARKS_68_PATH, RESNET_MODEL\n",
    "\n",
    "# 1.加载正脸检测器\n",
    "detector = dlib.get_frontal_face_detector()\n",
    "\n",
    "# 2.加载人脸关键点检测器\n",
    "sp = dlib.shape_predictor(LANDMARKS_68_PATH)\n",
    "\n",
    "# 3. 加载人脸识别模型\n",
    "facerec = dlib.face_recognition_model_v1(RESNET_MODEL)\n",
    "\n",
    "# 候选人脸描述子list\n",
    "descriptors = []\n",
    "\n",
    "for f in glob.glob(os.path.join(faces_folder_path, \"*\")):\n",
    "    print(\"Processing file: {}\".format(f))\n",
    "    img = cv2.imread(f)\n",
    "    #win.clear_overlay()\n",
    "    #win.set_image(img)\n",
    "\n",
    "    # 1.人脸检测\n",
    "    dets = detector(img, 1)\n",
    "    print(\"Number of faces detected: {}\".format(len(dets)))\n",
    "\n",
    "    for k, d in enumerate(dets):  \n",
    "        # 2.关键点检测\n",
    "        shape = sp(img, d)\n",
    "        # 画出人脸区域和和关键点\n",
    "        # win.clear_overlay()\n",
    "        # win.add_overlay(d)\n",
    "        # win.add_overlay(shape)\n",
    "\n",
    "        # 3.描述子提取，128D向量\n",
    "        face_descriptor = facerec.compute_face_descriptor(img, shape)\n",
    "\n",
    "        # 转换为numpy array\n",
    "        v = numpy.array(face_descriptor)  \n",
    "        descriptors.append(v)"
   ]
  },
  {
   "cell_type": "code",
   "execution_count": 14,
   "metadata": {},
   "outputs": [
    {
     "name": "stdout",
     "output_type": "stream",
     "text": [
      "[('Feifei', 0.35617862647761117), ('Shishi', 0.5458927723572955), ('Unknown2', 0.7727529011455017), ('Unknown1', 0.8631444141027035)]\n",
      "\n",
      " The person is:  Feifei\n"
     ]
    }
   ],
   "source": [
    "# 对需识别人脸进行同样处理\n",
    "img = cv2.imread(img_path)\n",
    "dets = detector(img, 1)\n",
    "\n",
    "dist = []\n",
    "for k, d in enumerate(dets):\n",
    "    shape = sp(img, d)\n",
    "    face_descriptor = facerec.compute_face_descriptor(img, shape)\n",
    "    d_test = numpy.array(face_descriptor) \n",
    "\n",
    "    # 计算欧式距离\n",
    "    for i in descriptors:\n",
    "        dist_ = numpy.linalg.norm(i-d_test)\n",
    "        dist.append(dist_)\n",
    "\n",
    "\n",
    "# 候选人名单\n",
    "\n",
    "candidate = ['Feifei','Shishi','Unknown1','Unknown2']\n",
    "\n",
    "# 候选人和距离组成一个dict\n",
    "\n",
    "c_d = dict(zip(candidate,dist))\n",
    "\n",
    "cd_sorted = sorted(c_d.items(), key=lambda d:d[1])\n",
    "print(cd_sorted)\n",
    "print(\"\\n The person is: \",cd_sorted[0][0])"
   ]
  },
  {
   "cell_type": "code",
   "execution_count": null,
   "metadata": {},
   "outputs": [],
   "source": []
  }
 ],
 "metadata": {
  "kernelspec": {
   "display_name": "Python 3",
   "language": "python",
   "name": "python3"
  },
  "language_info": {
   "codemirror_mode": {
    "name": "ipython",
    "version": 3
   },
   "file_extension": ".py",
   "mimetype": "text/x-python",
   "name": "python",
   "nbconvert_exporter": "python",
   "pygments_lexer": "ipython3",
   "version": "3.6.6"
  },
  "toc": {
   "base_numbering": 1,
   "nav_menu": {},
   "number_sections": true,
   "sideBar": true,
   "skip_h1_title": false,
   "title_cell": "Table of Contents",
   "title_sidebar": "Contents",
   "toc_cell": true,
   "toc_position": {},
   "toc_section_display": true,
   "toc_window_display": false
  }
 },
 "nbformat": 4,
 "nbformat_minor": 2
}
