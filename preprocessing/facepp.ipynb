{
 "cells": [
  {
   "cell_type": "markdown",
   "metadata": {
    "toc": true
   },
   "source": [
    "<h1>Table of Contents<span class=\"tocSkip\"></span></h1>\n",
    "<div class=\"toc\"><ul class=\"toc-item\"></ul></div>"
   ]
  },
  {
   "cell_type": "code",
   "execution_count": 6,
   "metadata": {},
   "outputs": [],
   "source": [
    "path = r'F:\\facial_images\\TS\\TS_frontal\\31-20080405-20170314-1.JPG'"
   ]
  },
  {
   "cell_type": "code",
   "execution_count": 7,
   "metadata": {},
   "outputs": [
    {
     "name": "stdout",
     "output_type": "stream",
     "text": [
      "{\"image_id\": \"vaBxvym5ml7r9hMmzriq7w==\", \"request_id\": \"1540433328,3303c225-ad0f-4594-9671-8102c12b62df\", \"time_used\": 1372, \"faces\": [{\"landmark\": {\"mouth_upper_lip_left_contour2\": {\"y\": 1160, \"x\": 1284}, \"mouth_upper_lip_top\": {\"y\": 1140, \"x\": 1346}, \"mouth_upper_lip_left_contour1\": {\"y\": 1137, \"x\": 1320}, \"left_eye_upper_left_quarter\": {\"y\": 871, \"x\": 1132}, \"left_eyebrow_lower_middle\": {\"y\": 800, \"x\": 1128}, \"mouth_upper_lip_left_contour3\": {\"y\": 1178, \"x\": 1303}, \"right_eye_top\": {\"y\": 816, \"x\": 1440}, \"left_eye_bottom\": {\"y\": 901, \"x\": 1168}, \"right_eyebrow_lower_left_quarter\": {\"y\": 757, \"x\": 1401}, \"right_eye_pupil\": {\"y\": 839, \"x\": 1434}, \"mouth_lower_lip_right_contour1\": {\"y\": 1168, \"x\": 1397}, \"mouth_lower_lip_right_contour3\": {\"y\": 1210, \"x\": 1397}, \"mouth_lower_lip_right_contour2\": {\"y\": 1190, \"x\": 1424}, \"contour_chin\": {\"y\": 1319, \"x\": 1382}, \"contour_left9\": {\"y\": 1318, \"x\": 1306}, \"left_eye_lower_right_quarter\": {\"y\": 894, \"x\": 1197}, \"mouth_lower_lip_top\": {\"y\": 1174, \"x\": 1353}, \"right_eyebrow_upper_middle\": {\"y\": 707, \"x\": 1436}, \"left_eyebrow_left_corner\": {\"y\": 824, \"x\": 1045}, \"right_eye_bottom\": {\"y\": 860, \"x\": 1450}, \"contour_left7\": {\"y\": 1251, \"x\": 1188}, \"contour_left6\": {\"y\": 1207, \"x\": 1140}, \"contour_left5\": {\"y\": 1156, \"x\": 1099}, \"contour_left4\": {\"y\": 1099, \"x\": 1068}, \"contour_left3\": {\"y\": 1040, \"x\": 1042}, \"contour_left2\": {\"y\": 979, \"x\": 1022}, \"contour_left1\": {\"y\": 914, \"x\": 1007}, \"left_eye_lower_left_quarter\": {\"y\": 901, \"x\": 1137}, \"contour_right1\": {\"y\": 816, \"x\": 1591}, \"contour_right3\": {\"y\": 944, \"x\": 1601}, \"contour_right2\": {\"y\": 880, \"x\": 1599}, \"mouth_left_corner\": {\"y\": 1190, \"x\": 1254}, \"contour_right4\": {\"y\": 1008, \"x\": 1599}, \"contour_right7\": {\"y\": 1190, \"x\": 1539}, \"right_eyebrow_left_corner\": {\"y\": 771, \"x\": 1355}, \"nose_right\": {\"y\": 1024, \"x\": 1417}, \"nose_tip\": {\"y\": 1005, \"x\": 1324}, \"contour_right5\": {\"y\": 1072, \"x\": 1590}, \"nose_contour_lower_middle\": {\"y\": 1063, \"x\": 1336}, \"left_eyebrow_lower_left_quarter\": {\"y\": 807, \"x\": 1085}, \"mouth_lower_lip_left_contour3\": {\"y\": 1219, \"x\": 1319}, \"right_eye_right_corner\": {\"y\": 829, \"x\": 1498}, \"right_eye_lower_right_quarter\": {\"y\": 847, \"x\": 1479}, \"mouth_upper_lip_right_contour2\": {\"y\": 1144, \"x\": 1409}, \"right_eyebrow_lower_right_quarter\": {\"y\": 736, \"x\": 1487}, \"left_eye_left_corner\": {\"y\": 895, \"x\": 1110}, \"mouth_right_corner\": {\"y\": 1165, \"x\": 1443}, \"mouth_upper_lip_right_contour3\": {\"y\": 1167, \"x\": 1396}, \"right_eye_lower_left_quarter\": {\"y\": 862, \"x\": 1418}, \"left_eyebrow_right_corner\": {\"y\": 794, \"x\": 1224}, \"left_eyebrow_lower_right_quarter\": {\"y\": 800, \"x\": 1176}, \"right_eye_center\": {\"y\": 841, \"x\": 1444}, \"nose_left\": {\"y\": 1055, \"x\": 1255}, \"mouth_lower_lip_left_contour1\": {\"y\": 1178, \"x\": 1306}, \"left_eye_upper_right_quarter\": {\"y\": 863, \"x\": 1198}, \"right_eyebrow_lower_middle\": {\"y\": 741, \"x\": 1445}, \"left_eye_top\": {\"y\": 858, \"x\": 1164}, \"left_eye_center\": {\"y\": 885, \"x\": 1166}, \"contour_left8\": {\"y\": 1289, \"x\": 1243}, \"contour_right9\": {\"y\": 1290, \"x\": 1451}, \"right_eye_left_corner\": {\"y\": 860, \"x\": 1387}, \"mouth_lower_lip_bottom\": {\"y\": 1221, \"x\": 1360}, \"left_eyebrow_upper_left_quarter\": {\"y\": 783, \"x\": 1077}, \"left_eye_pupil\": {\"y\": 878, \"x\": 1174}, \"right_eyebrow_upper_left_quarter\": {\"y\": 729, \"x\": 1386}, \"contour_right8\": {\"y\": 1243, \"x\": 1501}, \"right_eyebrow_right_corner\": {\"y\": 738, \"x\": 1529}, \"right_eye_upper_left_quarter\": {\"y\": 832, \"x\": 1408}, \"left_eyebrow_upper_middle\": {\"y\": 766, \"x\": 1125}, \"right_eyebrow_upper_right_quarter\": {\"y\": 708, \"x\": 1488}, \"nose_contour_left1\": {\"y\": 890, \"x\": 1261}, \"nose_contour_left2\": {\"y\": 1008, \"x\": 1264}, \"mouth_upper_lip_right_contour1\": {\"y\": 1130, \"x\": 1371}, \"nose_contour_right1\": {\"y\": 872, \"x\": 1351}, \"nose_contour_right2\": {\"y\": 983, \"x\": 1390}, \"mouth_lower_lip_left_contour2\": {\"y\": 1207, \"x\": 1285}, \"contour_right6\": {\"y\": 1133, \"x\": 1570}, \"nose_contour_right3\": {\"y\": 1046, \"x\": 1378}, \"nose_contour_left3\": {\"y\": 1061, \"x\": 1294}, \"left_eye_right_corner\": {\"y\": 886, \"x\": 1223}, \"left_eyebrow_upper_right_quarter\": {\"y\": 768, \"x\": 1179}, \"right_eye_upper_right_quarter\": {\"y\": 816, \"x\": 1472}, \"mouth_upper_lip_bottom\": {\"y\": 1173, \"x\": 1352}}, \"attributes\": {\"emotion\": {\"sadness\": 1.179, \"neutral\": 97.143, \"disgust\": 0.038, \"anger\": 0.042, \"surprise\": 1.52, \"fear\": 0.034, \"happiness\": 0.044}, \"beauty\": {\"female_score\": 57.91, \"male_score\": 57.437}, \"gender\": {\"value\": \"Female\"}, \"age\": {\"value\": 8}, \"mouthstatus\": {\"close\": 99.981, \"surgical_mask_or_respirator\": 0.0, \"open\": 0.019, \"other_occlusion\": 0.0}, \"glass\": {\"value\": \"None\"}, \"skinstatus\": {\"dark_circle\": 1.378, \"stain\": 16.495, \"acne\": 2.526, \"health\": 28.261}, \"headpose\": {\"yaw_angle\": 6.6154, \"pitch_angle\": 4.615037, \"roll_angle\": -11.72956}, \"blur\": {\"blurness\": {\"threshold\": 50.0, \"value\": 0.361}, \"motionblur\": {\"threshold\": 50.0, \"value\": 0.361}, \"gaussianblur\": {\"threshold\": 50.0, \"value\": 0.361}}, \"smile\": {\"threshold\": 50.0, \"value\": 0.117}, \"eyestatus\": {\"left_eye_status\": {\"normal_glass_eye_open\": 0.0, \"no_glass_eye_close\": 0.0, \"occlusion\": 0.0, \"no_glass_eye_open\": 100.0, \"normal_glass_eye_close\": 0.0, \"dark_glasses\": 0.0}, \"right_eye_status\": {\"normal_glass_eye_open\": 0.018, \"no_glass_eye_close\": 0.0, \"occlusion\": 0.0, \"no_glass_eye_open\": 99.982, \"normal_glass_eye_close\": 0.0, \"dark_glasses\": 0.0}}, \"facequality\": {\"threshold\": 70.1, \"value\": 87.976}, \"ethnicity\": {\"value\": \"ASIAN\"}, \"eyegaze\": {\"right_eye_gaze\": {\"position_x_coordinate\": 0.433, \"vector_z_component\": 0.991, \"vector_x_component\": -0.133, \"vector_y_component\": -0.008, \"position_y_coordinate\": 0.406}, \"left_eye_gaze\": {\"position_x_coordinate\": 0.559, \"vector_z_component\": 0.966, \"vector_x_component\": 0.257, \"vector_y_component\": 0.003, \"position_y_coordinate\": 0.401}}}, \"face_rectangle\": {\"width\": 597, \"top\": 727, \"left\": 1024, \"height\": 597}, \"face_token\": \"c7593b7d62f8fa9f795889083db7f538\"}]}\n"
     ]
    }
   ],
   "source": [
    "# -*- coding: utf-8 -*-\n",
    "import urllib.request\n",
    "import urllib.error\n",
    "import time\n",
    "\n",
    "http_url = 'https://api-cn.faceplusplus.com/facepp/v3/detect'\n",
    "key = \"S2WvfVml4punPdrxuFk0fNI7TgFMEAF3\"\n",
    "secret = \"iWliw8kmUDpX7_p1wkLTDj2XG0ueTPhw\"\n",
    "filepath = path\n",
    "\n",
    "boundary = '----------%s' % hex(int(time.time() * 1000))\n",
    "data = []\n",
    "data.append('--%s' % boundary)\n",
    "data.append('Content-Disposition: form-data; name=\"%s\"\\r\\n' % 'api_key')\n",
    "data.append(key)\n",
    "data.append('--%s' % boundary)\n",
    "data.append('Content-Disposition: form-data; name=\"%s\"\\r\\n' % 'api_secret')\n",
    "data.append(secret)\n",
    "data.append('--%s' % boundary)\n",
    "fr = open(filepath, 'rb')\n",
    "data.append('Content-Disposition: form-data; name=\"%s\"; filename=\" \"' % 'image_file')\n",
    "data.append('Content-Type: %s\\r\\n' % 'application/octet-stream')\n",
    "data.append(fr.read())\n",
    "fr.close()\n",
    "data.append('--%s' % boundary)\n",
    "data.append('Content-Disposition: form-data; name=\"%s\"\\r\\n' % 'return_landmark')\n",
    "data.append('1')\n",
    "data.append('--%s' % boundary)\n",
    "data.append('Content-Disposition: form-data; name=\"%s\"\\r\\n' % 'return_attributes')\n",
    "data.append(\n",
    "    \"gender,age,smiling,headpose,facequality,blur,eyestatus,emotion,ethnicity,beauty,mouthstatus,eyegaze,skinstatus\")\n",
    "data.append('--%s--\\r\\n' % boundary)\n",
    "\n",
    "for i, d in enumerate(data):\n",
    "    if isinstance(d, str):\n",
    "        data[i] = d.encode('utf-8')\n",
    "\n",
    "http_body = b'\\r\\n'.join(data)\n",
    "\n",
    "# build http request\n",
    "req = urllib.request.Request(url=http_url, data=http_body)\n",
    "\n",
    "# header\n",
    "req.add_header('Content-Type', 'multipart/form-data; boundary=%s' % boundary)\n",
    "\n",
    "try:\n",
    "    # post data to server\n",
    "    resp = urllib.request.urlopen(req, timeout=5)\n",
    "    # get response\n",
    "    qrcont = resp.read()\n",
    "    # if you want to load as json, you should decode first,\n",
    "    # for example: json.loads(qrount.decode('utf-8'))\n",
    "    print(qrcont.decode('utf-8'))\n",
    "except urllib.error.HTTPError as e:\n",
    "    print(e.read().decode('utf-8'))"
   ]
  },
  {
   "cell_type": "code",
   "execution_count": null,
   "metadata": {},
   "outputs": [],
   "source": []
  },
  {
   "cell_type": "code",
   "execution_count": null,
   "metadata": {},
   "outputs": [],
   "source": []
  }
 ],
 "metadata": {
  "kernelspec": {
   "display_name": "Python 3",
   "language": "python",
   "name": "python3"
  },
  "language_info": {
   "codemirror_mode": {
    "name": "ipython",
    "version": 3
   },
   "file_extension": ".py",
   "mimetype": "text/x-python",
   "name": "python",
   "nbconvert_exporter": "python",
   "pygments_lexer": "ipython3",
   "version": "3.6.6"
  },
  "toc": {
   "base_numbering": 1,
   "nav_menu": {},
   "number_sections": true,
   "sideBar": true,
   "skip_h1_title": false,
   "title_cell": "Table of Contents",
   "title_sidebar": "Contents",
   "toc_cell": true,
   "toc_position": {},
   "toc_section_display": true,
   "toc_window_display": false
  }
 },
 "nbformat": 4,
 "nbformat_minor": 2
}
